{
 "cells": [
  {
   "cell_type": "code",
   "execution_count": 2,
   "id": "d84bb698-95ce-42f5-b92e-d4364635a1ef",
   "metadata": {},
   "outputs": [],
   "source": [
    "# geolocate look vector components\n",
    "# jack tarricone\n",
    "\n",
    "%matplotlib inline\n",
    "import sys\n",
    "import os\n",
    "import glob\n",
    "import numpy as np\n",
    "from osgeo import gdal\n",
    "import matplotlib.pyplot as plt\n",
    "import rasterio as rio\n",
    "from rasterio.plot import show\n",
    "from uavsar_pytools.georeference import geolocate_uavsar"
   ]
  },
  {
   "cell_type": "code",
   "execution_count": 3,
   "id": "2c6e78c4-1af5-40e6-93e0-6cd2e6a20001",
   "metadata": {},
   "outputs": [],
   "source": [
    "## set function inputs\n",
    "os.chdir('/Users/jacktarricone/ch1_jemez/jemez_lband_swe_code_data/rasters/')"
   ]
  },
  {
   "cell_type": "code",
   "execution_count": 4,
   "id": "50c0bf29-14a8-4379-a6f5-e6d193ca1bd9",
   "metadata": {},
   "outputs": [],
   "source": [
    "# input data\n",
    "data = './slc/alamos_35915_01_BU_s1_2x8.lkv'\n",
    "\n",
    "# annotationn file\n",
    "ann_fp = './slc/alamos_35915_20005_003_200212_L090HH_01_BU.ann'\n",
    "\n",
    "# saving directory\n",
    "out_dir = './lvk'\n",
    "\n",
    "# lat lon heigh file\n",
    "llh_fp = './slc/alamos_35915_01_BU_s1_2x8.llh'"
   ]
  },
  {
   "cell_type": "code",
   "execution_count": null,
   "id": "1f226ce5-1e45-409e-909b-598e69c72e80",
   "metadata": {},
   "outputs": [],
   "source": [
    "##  run funciton, it works, just very slowly\n",
    "geolocated = geolocate_uavsar(in_fp   = data, \n",
    "                              ann_fp  = ann_fp, \n",
    "                              out_dir = out_dir, \n",
    "                              llh_fp  = llh_fp)"
   ]
  },
  {
   "cell_type": "code",
   "execution_count": null,
   "id": "8a3be9c2-d0a1-414c-9d36-f7860332f051",
   "metadata": {},
   "outputs": [],
   "source": []
  }
 ],
 "metadata": {
  "kernelspec": {
   "display_name": "uavsar_pytools",
   "language": "python",
   "name": "uavsar_pytools"
  },
  "language_info": {
   "codemirror_mode": {
    "name": "ipython",
    "version": 3
   },
   "file_extension": ".py",
   "mimetype": "text/x-python",
   "name": "python",
   "nbconvert_exporter": "python",
   "pygments_lexer": "ipython3",
   "version": "3.10.5"
  }
 },
 "nbformat": 4,
 "nbformat_minor": 5
}
